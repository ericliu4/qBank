{
 "cells": [
  {
   "cell_type": "markdown",
   "id": "dda8158d",
   "metadata": {},
   "source": [
    "Medium - Line Reflection (Easy with hint)\n",
    "\n",
    "Given n points on a 2D plane, find if there is such a line parallel to the y-axis that reflects the given points symmetrically."
   ]
  },
  {
   "cell_type": "code",
   "execution_count": null,
   "id": "f27abfe8",
   "metadata": {},
   "outputs": [],
   "source": [
    "class Solution:\n",
    "    def isReflected(self, points: List[List[int]]) -> bool:\n",
    "        if not points:\n",
    "            return True\n",
    "    \n",
    "        points_set = {tuple(p) for p in points}\n",
    "        \n",
    "        xs = [x for x, _ in points]\n",
    "        midLine = (min(xs) + max(xs)) / 2 \n",
    "        \n",
    "        for x, y in points_set:\n",
    "            otherX = 2 * midLine - x\n",
    "            if (otherX, y) not in points_set:\n",
    "                return False\n",
    "        return True"
   ]
  },
  {
   "cell_type": "markdown",
   "id": "6c4dcbca",
   "metadata": {},
   "source": [
    "Medium - Length of the longest alphabetical continuous substring\n",
    "\n",
    "Give hint that in python ord(a) gives numerical ordering"
   ]
  },
  {
   "cell_type": "code",
   "execution_count": null,
   "id": "587a33e7",
   "metadata": {},
   "outputs": [],
   "source": [
    "class Solution:\n",
    "    def longestContinuousSubstring(self, s: str) -> int:\n",
    "        #sliding window approach\n",
    "        left = 0\n",
    "        ans = 0\n",
    "        for rightIndex, val in enumerate(s):\n",
    "            if ord(val) - ord(s[rightIndex-1 if rightIndex>0 else 0]) != 1:\n",
    "                left = rightIndex\n",
    "            ans = max(ans, rightIndex-left+1)\n",
    "        return ans"
   ]
  },
  {
   "cell_type": "markdown",
   "id": "f47083ff",
   "metadata": {},
   "source": [
    "Easy (Greedy) - Count Days Spent Together\n",
    "\n",
    "Alice and Bob are traveling to Rome for separate business meetings.\n",
    "You are given 4 strings arriveAlice, leaveAlice, arriveBob, and leaveBob. Alice will be in the city from the dates arriveAlice to leaveAlice (inclusive), while Bob will be in the city from the dates arriveBob to leaveBob (inclusive). Each will be a 5-character string in the format \"MM-DD\", corresponding to the month and day of the date.\n",
    "Return the total number of days that Alice and Bob are in Rome together.\n",
    "You can assume that all dates occur in the same calendar year, which is not a leap year. Note that the number of days per month can be represented as: [31, 28, 31, 30, 31, 30, 31, 31, 30, 31, 30, 31]."
   ]
  },
  {
   "cell_type": "code",
   "execution_count": null,
   "id": "fbce8a70",
   "metadata": {},
   "outputs": [],
   "source": [
    "class Solution:\n",
    "    def countDaysTogether(self, arriveAlice: str, leaveAlice: str, arriveBob: str, leaveBob: str) -> int:\n",
    "        D = [31, 28, 31, 30, 31, 30, 31, 31, 30, 31, 30, 31]\n",
    "        \n",
    "        def helper(days):\n",
    "            return int(days[-2:]) + sum(D[:int(days[:2]) - 1])\n",
    "        \n",
    "        return max(0, helper(min(leaveAlice, leaveBob)) - helper(max(arriveAlice, arriveBob)) + 1)"
   ]
  },
  {
   "cell_type": "markdown",
   "id": "fec36ec2",
   "metadata": {},
   "source": [
    "Medium - Word Pattern 2 (I think its a hard since it requires backtracking algo)\n",
    "\n",
    "Given a pattern and a string s, return true if s matches the pattern.\n",
    "A string s matches a pattern if there is some bijective mapping of single characters to non-empty strings such that if each character in pattern is replaced by the string it maps to, then the resulting string is s. A bijective mapping means that no two characters map to the same string, and no character maps to two different strings."
   ]
  },
  {
   "cell_type": "code",
   "execution_count": null,
   "id": "a836cea9",
   "metadata": {},
   "outputs": [],
   "source": [
    "from collections import defaultdict\n",
    "class Solution:\n",
    "    def wordPatternMatch(self, pattern: str, s: str) -> bool:\n",
    "        mapping = defaultdict()\n",
    "        used = set()\n",
    "        def helper(x,y):\n",
    "            if x == len(pattern):\n",
    "                return y == len(s)\n",
    "            symbol = pattern[x]\n",
    "            if symbol in mapping:\n",
    "                word = mapping[symbol]\n",
    "                if s[y : y + len(word)] != word:\n",
    "                    return False\n",
    "                return helper(x + 1, y + len(word))\n",
    "            for k in range(y + 1, len(s) + 1):\n",
    "                new_word = s[y:k]\n",
    "                if new_word in used:\n",
    "                    continue\n",
    "                mapping[symbol] = new_word\n",
    "                used.add(new_word)\n",
    "                if helper(x + 1, y + len(new_word)):\n",
    "                    return True\n",
    "                del mapping[symbol]\n",
    "                used.remove(new_word)\n",
    "            return False\n",
    "        return helper(0, 0)"
   ]
  },
  {
   "cell_type": "markdown",
   "id": "9886aa29",
   "metadata": {},
   "source": [
    "Medium: Range Sum Query 2D (Binary Indexed Tree)\n",
    "\n",
    "Given a 2D matrix matrix, handle multiple queries of the following types:\n",
    "Update the value of a cell in matrix.\n",
    "Calculate the sum of the elements of matrix inside the rectangle defined by its upper left corner (row1, col1) and lower right corner (row2, col2).\n",
    "Implement the NumMatrix class:\n",
    "NumMatrix(int[][] matrix) Initializes the object with the integer matrix matrix.\n",
    "void update(int row, int col, int val) Updates the value of matrix[row][col] to be val.\n",
    "int sumRegion(int row1, int col1, int row2, int col2) Returns the sum of the elements of matrix inside the rectangle defined by its upper left corner (row1, col1) and lower right corner (row2, col2).\n",
    "\n",
    "Can make it a lot harder by asking if it is possible to optimize\n",
    "- Use bit manipulation to construct indexed tree"
   ]
  },
  {
   "cell_type": "code",
   "execution_count": null,
   "id": "29839894",
   "metadata": {},
   "outputs": [],
   "source": [
    "class NumMatrix:\n",
    "\n",
    "    def __init__(self, matrix: List[List[int]]):\n",
    "        self.matrix = matrix\n",
    "\n",
    "    def update(self, row: int, col: int, val: int) -> None:\n",
    "        self.matrix[row][col] = val\n",
    "\n",
    "    def sumRegion(self, row1: int, col1: int, row2: int, col2: int) -> int:\n",
    "        ans = 0\n",
    "        for y in range(row1, row2+1):\n",
    "            for x in range(col1, col2+1):\n",
    "                ans += self.matrix[y][x]\n",
    "        return ans"
   ]
  },
  {
   "cell_type": "code",
   "execution_count": null,
   "id": "810d38d8",
   "metadata": {},
   "outputs": [],
   "source": [
    "from typing import List\n",
    "\n",
    "class NumMatrix:\n",
    "    def __init__(self, matrix: List[List[int]]):\n",
    "        self.rows = len(matrix)\n",
    "        if self.rows == 0:\n",
    "            self.cols = 0\n",
    "            self.bit = []\n",
    "            self._empty = True\n",
    "            return\n",
    "        self._empty = False\n",
    "        self.cols = len(matrix[0])\n",
    "        # 1-based indexing: allocate (rows+1) x (cols+1)\n",
    "        self.bit = [[0] * (self.cols + 1) for _ in range(self.rows + 1)]\n",
    "        self._buildBIT(matrix)\n",
    "\n",
    "    @staticmethod\n",
    "    def _lsb(n: int) -> int:\n",
    "        # rightmost set bit\n",
    "        return n & -n\n",
    "\n",
    "    def _updateBIT(self, r: int, c: int, val: int) -> None:\n",
    "        i = r\n",
    "        while i <= self.rows:\n",
    "            j = c\n",
    "            while j <= self.cols:\n",
    "                self.bit[i][j] += val\n",
    "                j += self._lsb(j)\n",
    "            i += self._lsb(i)\n",
    "\n",
    "    def _queryBIT(self, r: int, c: int) -> int:\n",
    "        s = 0\n",
    "        i = r\n",
    "        while i > 0:\n",
    "            j = c\n",
    "            while j > 0:\n",
    "                s += self.bit[i][j]\n",
    "                j -= self._lsb(j)\n",
    "            i -= self._lsb(i)\n",
    "        return s\n",
    "\n",
    "    def _buildBIT(self, matrix: List[List[int]]) -> None:\n",
    "        for i in range(1, self.rows + 1):\n",
    "            for j in range(1, self.cols + 1):\n",
    "                self._updateBIT(i, j, matrix[i - 1][j - 1])\n",
    "\n",
    "    def update(self, row: int, col: int, val: int) -> None:\n",
    "        if self._empty:\n",
    "            return\n",
    "        # current value at (row, col) via single-cell sumRegion\n",
    "        old_val = self.sumRegion(row, col, row, col)\n",
    "        diff = val - old_val\n",
    "        # convert to 1-based and push diff\n",
    "        self._updateBIT(row + 1, col + 1, diff)\n",
    "\n",
    "    def sumRegion(self, row1: int, col1: int, row2: int, col2: int) -> int:\n",
    "        if self._empty:\n",
    "            return 0\n",
    "        # convert to 1-based\n",
    "        r1, c1, r2, c2 = row1 + 1, col1 + 1, row2 + 1, col2 + 1\n",
    "        # inclusion-exclusion (matches your Java layout):\n",
    "        a = self._queryBIT(r2, c2)\n",
    "        b = self._queryBIT(r1 - 1, c1 - 1)\n",
    "        c = self._queryBIT(r2, c1 - 1)\n",
    "        d = self._queryBIT(r1 - 1, c2)\n",
    "        return (a + b) - (c + d)\n"
   ]
  },
  {
   "cell_type": "markdown",
   "id": "8ddb7288",
   "metadata": {},
   "source": [
    "Medium: Nested List Weight Sum\n",
    "\n",
    "You are given a nested list of integers nestedList. Each element is either an integer or a list whose elements may also be integers or other lists.\n",
    "The depth of an integer is the number of lists that it is inside of. For example, the nested list [1,[2,2],[[3],2],1] has each integer's value set to its depth.\n",
    "Return the sum of each integer in nestedList multiplied by its depth.\n",
    "\n",
    "Input: nestedList = [[1,1],2,[1,1]]\n",
    "Output: 10\n",
    "Explanation: Four 1's at depth 2, one 2 at depth 1. 1*2 + 1*2 + 2*1 + 1*2 + 1*2 = 10.\n",
    "\n",
    "To make it simplier, we have 3 premade functions we can call, nestedList.isInteger(), nestedList.getInteger(), nestedList.getList()"
   ]
  },
  {
   "cell_type": "code",
   "execution_count": null,
   "id": "ec7dd57b",
   "metadata": {},
   "outputs": [],
   "source": [
    "def depthSum(self, nestedList: List[NestedInteger]) -> int:\n",
    "    def helper(curr_list, curr_depth):\n",
    "        ans = 0\n",
    "        for item in curr_list:\n",
    "            if item.isInteger():\n",
    "                ans += item.getInteger()*curr_depth\n",
    "            else:\n",
    "                ans += helper(item.getList(), curr_depth+1)\n",
    "        return ans\n",
    "    return helper(nestedList, 1)"
   ]
  },
  {
   "cell_type": "markdown",
   "id": "8b692af6",
   "metadata": {},
   "source": [
    "Medium - Number of Boomerangs (Hashmap) - I think this is a medium-hard question\n",
    "\n",
    "You are given n points in the plane that are all distinct, where points[i] = [xi, yi]. A boomerang is a tuple of points (i, j, k) such that the distance between i and j equals the distance between i and k (the order of the tuple matters).\n",
    "Return the number of boomerangs."
   ]
  },
  {
   "cell_type": "code",
   "execution_count": null,
   "id": "1f9cc1e4",
   "metadata": {},
   "outputs": [],
   "source": [
    "from collections import defaultdict\n",
    "class Solution:\n",
    "    def numberOfBoomerangs(self, points: List[List[int]]) -> int:\n",
    "        ans = 0\n",
    "        for point in points:\n",
    "            mapping = defaultdict()\n",
    "            for q in points:\n",
    "                x = point[0] - q[0]\n",
    "                y = point[1] - q[1]\n",
    "                mapping[x*x + y*y] = 1 + mapping.get(x*x + y*y, 0)\n",
    "            for k in mapping:\n",
    "                ans += mapping[k] * (mapping[k]-1)\n",
    "        return ans\n"
   ]
  },
  {
   "cell_type": "markdown",
   "id": "872af8cf",
   "metadata": {},
   "source": [
    "Medium K-diff pairs in an array\n",
    "\n",
    "Given an array of integers nums and an integer k, return the number of unique k-diff pairs in the array.\n",
    "A k-diff pair is an integer pair (nums[i], nums[j]), where the following are true:\n",
    "0 <= i, j < nums.length\n",
    "i != j\n",
    "|nums[i] - nums[j]| == k\n",
    "Notice that |val| denotes the absolute value of val.\n",
    "\n",
    "Example 1:\n",
    "Input: nums = [3,1,4,1,5], k = 2\n",
    "Output: 2\n",
    "Explanation: There are two 2-diff pairs in the array, (1, 3) and (3, 5).\n",
    "Although we have two 1s in the input, we should only return the number of unique pairs.\n",
    "\n",
    "brute force approach is too slow. edge case if k = 0, need 2 of an identical keys to work"
   ]
  },
  {
   "cell_type": "code",
   "execution_count": null,
   "id": "22904b14",
   "metadata": {},
   "outputs": [],
   "source": [
    "#2 pointer approach (copied from editorial)\n",
    "class Solution:\n",
    "    def findPairs(self, nums: List[int], k: int) -> int:\n",
    "        nums = sorted(nums)\n",
    "        left = 0\n",
    "        right = 1\n",
    "        result = 0\n",
    "        while (left < len(nums) and right < len(nums)):\n",
    "            if (left == right or nums[right] - nums[left] < k):\n",
    "                # List item 1 in the text\n",
    "                right += 1\n",
    "            elif nums[right] - nums[left] > k:\n",
    "                # List item 2 in the text\n",
    "                left += 1\n",
    "            else:\n",
    "                # List item 3 in the text\n",
    "                left += 1\n",
    "                result += 1\n",
    "                while (left < len(nums) and nums[left] == nums[left - 1]):\n",
    "                    left += 1\n",
    "        return result"
   ]
  },
  {
   "cell_type": "code",
   "execution_count": null,
   "id": "d5d69ee2",
   "metadata": {},
   "outputs": [],
   "source": [
    "#using counter\n",
    "from collections import Counter\n",
    "class Solution:\n",
    "    def findPairs(self, nums: List[int], k: int) -> int:\n",
    "        counter = Counter(nums)\n",
    "        ans = 0\n",
    "        for item, count in counter.items():\n",
    "            if k > 0 and item + k in counter.keys():\n",
    "                ans += 1\n",
    "            elif k == 0 and count > 1:\n",
    "                ans += 1\n",
    "        return ans"
   ]
  },
  {
   "cell_type": "markdown",
   "id": "82e6ae06",
   "metadata": {},
   "source": [
    "Easy - Largest Subarray Length K\n",
    "\n",
    "An array A is larger than some array B if for the first index i where A[i] != B[i], A[i] > B[i].\n",
    "\n",
    "For example, consider 0-indexing:\n",
    "\n",
    "[1,3,2,4] > [1,2,2,4], since at index 1, 3 > 2.\n",
    "[1,4,4,4] < [2,1,1,1], since at index 0, 1 < 2.\n",
    "A subarray is a contiguous subsequence of the array.\n",
    "\n",
    "Given an integer array nums of distinct integers, return the largest subarray of nums of length k."
   ]
  },
  {
   "cell_type": "code",
   "execution_count": null,
   "id": "7f7903c6",
   "metadata": {},
   "outputs": [],
   "source": [
    "#Greedy solution, since each number is unique we can use it\n",
    "class Solution:\n",
    "    def largestSubarray(self, nums: List[int], k: int) -> List[int]:\n",
    "        n = len(nums)\n",
    "        ans_index = 0\n",
    "        for i in range(n-k+1):\n",
    "            if nums[i] > nums[ans_index]:\n",
    "                ans_index = i\n",
    "        return nums[ans_index: ans_index+k]\n"
   ]
  },
  {
   "cell_type": "markdown",
   "id": "22665d4d",
   "metadata": {},
   "source": [
    "Medium (greedy) - Find the value of the partition\n",
    "\n",
    "You are given a positive integer array nums.\n",
    "Partition nums into two arrays, nums1 and nums2, such that:\n",
    "\n",
    "Each element of the array nums belongs to either the array nums1 or the array nums2.\n",
    "Both arrays are non-empty.\n",
    "The value of the partition is minimized.\n",
    "The value of the partition is |max(nums1) - min(nums2)|.\n",
    "\n",
    "Here, max(nums1) denotes the maximum element of the array nums1, and min(nums2) denotes the minimum element of the array nums2.\n",
    "Return the integer denoting the value of such partition."
   ]
  },
  {
   "cell_type": "code",
   "execution_count": null,
   "id": "cf32ee2f",
   "metadata": {},
   "outputs": [],
   "source": [
    "class Solution:\n",
    "    def findValueOfPartition(self, nums: List[int]) -> int:\n",
    "        nums.sort()\n",
    "        n = len(nums)\n",
    "        ans = float('inf')\n",
    "        for i in range(n-1):\n",
    "            ans = min(ans, nums[i+1] - nums[i])\n",
    "        return ans"
   ]
  }
 ],
 "metadata": {
  "kernelspec": {
   "display_name": "Python 3",
   "language": "python",
   "name": "python3"
  },
  "language_info": {
   "name": "python",
   "version": "3.12.1"
  }
 },
 "nbformat": 4,
 "nbformat_minor": 5
}
