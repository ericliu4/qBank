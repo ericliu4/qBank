{
 "cells": [
  {
   "cell_type": "markdown",
   "id": "8ddb7288",
   "metadata": {},
   "source": [
    "Medium: Nested List Weight Sum\n",
    "\n",
    "You are given a nested list of integers nestedList. Each element is either an integer or a list whose elements may also be integers or other lists.\n",
    "The depth of an integer is the number of lists that it is inside of. For example, the nested list [1,[2,2],[[3],2],1] has each integer's value set to its depth.\n",
    "Return the sum of each integer in nestedList multiplied by its depth.\n",
    "\n",
    "Input: nestedList = [[1,1],2,[1,1]]\n",
    "Output: 10\n",
    "Explanation: Four 1's at depth 2, one 2 at depth 1. 1*2 + 1*2 + 2*1 + 1*2 + 1*2 = 10.\n",
    "\n",
    "To make it simplier, we have 3 premade functions we can call, nestedList.isInteger(), nestedList.getInteger(), nestedList.getList()"
   ]
  },
  {
   "cell_type": "code",
   "execution_count": null,
   "id": "ec7dd57b",
   "metadata": {},
   "outputs": [],
   "source": [
    "def depthSum(self, nestedList: List[NestedInteger]) -> int:\n",
    "    def helper(curr_list, curr_depth):\n",
    "        ans = 0\n",
    "        for item in curr_list:\n",
    "            if item.isInteger():\n",
    "                ans += item.getInteger()*curr_depth\n",
    "            else:\n",
    "                ans += helper(item.getList(), curr_depth+1)\n",
    "        return ans\n",
    "    return helper(nestedList, 1)"
   ]
  },
  {
   "cell_type": "markdown",
   "id": "82e6ae06",
   "metadata": {},
   "source": [
    "Medium: Number of Corner Rectangles\n",
    "\n",
    "Given an m x n integer matrix grid where each entry is only 0 or 1, return the number of corner rectangles.\n",
    "A corner rectangle is four distinct 1's on the grid that forms an axis-aligned rectangle. Note that only the corners need to have the value 1. Also, all four 1's used must be distinct.\n",
    "\n",
    "\n"
   ]
  }
 ],
 "metadata": {
  "kernelspec": {
   "display_name": "Python 3",
   "language": "python",
   "name": "python3"
  },
  "language_info": {
   "name": "python",
   "version": "3.12.1"
  }
 },
 "nbformat": 4,
 "nbformat_minor": 5
}
