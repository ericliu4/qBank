{
 "cells": [
  {
   "cell_type": "markdown",
   "id": "6c4dcbca",
   "metadata": {},
   "source": [
    "Medium - Length of the longest alphabetical continuous substring"
   ]
  },
  {
   "cell_type": "code",
   "execution_count": null,
   "id": "587a33e7",
   "metadata": {},
   "outputs": [],
   "source": [
    "class Solution:\n",
    "    def longestContinuousSubstring(self, s: str) -> int:\n",
    "        #sliding window approach\n",
    "        left = 0\n",
    "        ans = 0\n",
    "        for rightIndex, val in enumerate(s):\n",
    "            if ord(val) - ord(s[rightIndex-1 if rightIndex>0 else 0]) != 1:\n",
    "                left = rightIndex\n",
    "            ans = max(ans, rightIndex-left+1)\n",
    "        return ans"
   ]
  },
  {
   "cell_type": "markdown",
   "id": "8ddb7288",
   "metadata": {},
   "source": [
    "Medium: Nested List Weight Sum\n",
    "\n",
    "You are given a nested list of integers nestedList. Each element is either an integer or a list whose elements may also be integers or other lists.\n",
    "The depth of an integer is the number of lists that it is inside of. For example, the nested list [1,[2,2],[[3],2],1] has each integer's value set to its depth.\n",
    "Return the sum of each integer in nestedList multiplied by its depth.\n",
    "\n",
    "Input: nestedList = [[1,1],2,[1,1]]\n",
    "Output: 10\n",
    "Explanation: Four 1's at depth 2, one 2 at depth 1. 1*2 + 1*2 + 2*1 + 1*2 + 1*2 = 10.\n",
    "\n",
    "To make it simplier, we have 3 premade functions we can call, nestedList.isInteger(), nestedList.getInteger(), nestedList.getList()"
   ]
  },
  {
   "cell_type": "code",
   "execution_count": null,
   "id": "ec7dd57b",
   "metadata": {},
   "outputs": [],
   "source": [
    "def depthSum(self, nestedList: List[NestedInteger]) -> int:\n",
    "    def helper(curr_list, curr_depth):\n",
    "        ans = 0\n",
    "        for item in curr_list:\n",
    "            if item.isInteger():\n",
    "                ans += item.getInteger()*curr_depth\n",
    "            else:\n",
    "                ans += helper(item.getList(), curr_depth+1)\n",
    "        return ans\n",
    "    return helper(nestedList, 1)"
   ]
  },
  {
   "cell_type": "markdown",
   "id": "82e6ae06",
   "metadata": {},
   "source": [
    "Easy - Largest Subarray Length K\n",
    "\n",
    "An array A is larger than some array B if for the first index i where A[i] != B[i], A[i] > B[i].\n",
    "\n",
    "For example, consider 0-indexing:\n",
    "\n",
    "[1,3,2,4] > [1,2,2,4], since at index 1, 3 > 2.\n",
    "[1,4,4,4] < [2,1,1,1], since at index 0, 1 < 2.\n",
    "A subarray is a contiguous subsequence of the array.\n",
    "\n",
    "Given an integer array nums of distinct integers, return the largest subarray of nums of length k."
   ]
  },
  {
   "cell_type": "code",
   "execution_count": null,
   "id": "7f7903c6",
   "metadata": {},
   "outputs": [],
   "source": [
    "#Greedy solution, since each number is unique we can use it\n",
    "class Solution:\n",
    "    def largestSubarray(self, nums: List[int], k: int) -> List[int]:\n",
    "        n = len(nums)\n",
    "        ans_index = 0\n",
    "        for i in range(n-k+1):\n",
    "            if nums[i] > nums[ans_index]:\n",
    "                ans_index = i\n",
    "        return nums[ans_index: ans_index+k]\n"
   ]
  },
  {
   "cell_type": "markdown",
   "id": "22665d4d",
   "metadata": {},
   "source": [
    "Medium - Length of the longest alphabetical continuous substring"
   ]
  },
  {
   "cell_type": "code",
   "execution_count": null,
   "id": "cf32ee2f",
   "metadata": {},
   "outputs": [],
   "source": []
  }
 ],
 "metadata": {
  "kernelspec": {
   "display_name": "Python 3",
   "language": "python",
   "name": "python3"
  },
  "language_info": {
   "name": "python",
   "version": "3.12.1"
  }
 },
 "nbformat": 4,
 "nbformat_minor": 5
}
